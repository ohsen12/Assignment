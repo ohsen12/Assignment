{
 "cells": [
  {
   "cell_type": "code",
   "execution_count": 17,
   "metadata": {},
   "outputs": [],
   "source": [
    "class Cat:\n",
    "    \n",
    "    # docstring (document string) : 함수, 클래스, 모듈 등의 설명을 위한 문자열. __doc__ 속성을 사용하여 접근한다.\n",
    "    '''\n",
    "    클래스 Cat :\n",
    "    이 클래스로 만들어진 인스턴스는 고양이의 이름, 나이, 별명을 입력받아\n",
    "    다양한 반환값을 줍니다.\n",
    "    '''\n",
    "    # 클래스 변수 : 해당 클래스를 사용하는 모든 객체가 공유한다.\n",
    "    legs = 4 \n",
    "    tail = 1\n",
    "    instances = [] # 모든 인스턴스를 저장할 클래스 변수 \n",
    "    cat_count = 0\n",
    "\n",
    "    # __init__ : 객체가 생성될 때 호출되는 생성자 매직 메서드. 객체의 속성을 초기화해준다.(self 뒤의 매개변수들은 인스턴스 변수: 각 객체마다 사용하는 개별적인 변수)\n",
    "    def __init__(self, name, age, nickname):\n",
    "        self.name = name\n",
    "        self.age = age\n",
    "        self.nickname = nickname\n",
    "        Cat.instances.append(self) # 객체 생성 시 리스트에 추가\n",
    "        Cat.cat_count += 1 # 객체 생성 시 카운트\n",
    "    \n",
    "    # __repr__ : 디버깅과 개발자용 매직 메서드. 해당 객체를 다시 생성하는 데 필요한 문자열을 반환해야 한다.\n",
    "    def __repr__(self):\n",
    "        return f\"Cat(name='{self.name}', age={self.age}, nickname='{self.nickname}')\"\n",
    "    \n",
    "    # __str__ : 매직 메서드로, print 함수나 str() 함수로 호출하며 보통 사용자에게 객체를 설명해주는 데 사용된다.\n",
    "    def __str__(self):\n",
    "        return f'name : {self.name}, age : {self.age}, 냥집 주소(id) : {id(self)}, * 다리 수 테스트 용 {self.legs}'\n",
    "    \n",
    "    # __getitem__ : 객체를 인덱싱하거나 슬라이싱할 때 호출되는 매직 메서드\n",
    "    def __getitem__(self):\n",
    "        return f\"내 별명의 첫 글자는 '{self.nickname[0]}'! 맞춰보라냥 😸\"\n",
    "    \n",
    "    # __add__ : 매직 메서드로, 두 객체 간의 덧셈 연산을 지원한다. + 연산자가 호출될 때 실행된다.\n",
    "    def __add__(self,other):\n",
    "        return f'{self.name},{other.name}의 나이를 더하면 {self.age + other.age}살이다냥 🙀'\n",
    "    \n",
    "    # 클래스 자신을 참조하는 클래스 메서드\n",
    "    @classmethod \n",
    "    def show_instances(cls): # 클래스로 생성된 인스턴스들을 보여준다.\n",
    "        for i in cls.instances: \n",
    "            print(i)\n",
    "            \n",
    "    @classmethod\n",
    "    def show_count(cls):\n",
    "        print(f'지금 냥이별에는 {cls.cat_count}마리의 냥이들이 있다냥 🌐 ')\n",
    "    \n",
    "    @classmethod\n",
    "    # 사용 주의 !\n",
    "    def change_legs(cls, new_legs:int):\n",
    "        cls.legs = new_legs\n",
    "        print(f'🌞 태양의 감마선이 내리쬐어 모든 냥이들의 다리 수가 {cls.legs}개로 변했다냥 🙀')\n",
    "        \n",
    "    # 클래스나 객체 자체와는 상관없는 정적 메서드\n",
    "    # 인스턴스 변수를 사용하지 않고 클래스와 독립적으로 동작해야 하는 기능을 구현할 때 사용한다.\n",
    "    @staticmethod\n",
    "    def make_nickname():\n",
    "        import random\n",
    "        print('😼 간지나는 냥이 별명을 짓고 싶다냥❔ 내가 도와주겠다냥❕')\n",
    "        a = input('가장 최근에 먹은 음식 이름을 써달라냥 🐟 :')\n",
    "        b = input('지금 입고 있는 옷의 색깔을 영어발음으로 써달라냥 👚 :')\n",
    "        c = input('살고 있는 행정구역의 이름을 써달라냥 🏠 :')\n",
    "        d = input('사용하는 컴퓨터의 운영체제를 써달라냥 💻')\n",
    "        list = [a,b,c,d]\n",
    "        print('당신의 냥이에게 어울리는 별명은 ...','.','.','.', sep = '\\n')\n",
    "        print(f\"🎉바로 '{''.join(random.sample(list,2))}'이다냥🎉\")\n",
    "\n",
    "    # Cat 클래스의 사용자 정의 메서드들\n",
    "    def say(self):\n",
    "        return f'{self.name} 야옹 🐈'\n",
    "    \n",
    "    def say_nickname(self):\n",
    "        return f'내 별명은 \"{self.nickname}\"다냥 😽'\n",
    "    \n",
    "\n",
    "# Cat 클래스로 객체 생성\n",
    "cat1 = Cat('냥이1', 1, '첨지')\n",
    "cat2 = Cat('냥이2', 2, '춘봉이')\n",
    "cat3 = Cat('냥이3', 19, '나비' )\n",
    "cat4 = Cat('냥이4', 4, '돌쇠')\n"
   ]
  },
  {
   "cell_type": "code",
   "execution_count": 18,
   "metadata": {},
   "outputs": [
    {
     "name": "stdout",
     "output_type": "stream",
     "text": [
      "\n",
      "    클래스 Cat :\n",
      "    이 클래스로 만들어진 인스턴스는 고양이의 이름, 나이, 별명을 입력받아\n",
      "    다양한 반환값을 줍니다.\n",
      "    \n",
      "Cat(name='냥이1', age=1, nickname='첨지')\n",
      "name : 냥이1, age : 1, 냥집 주소(id) : 4393310816, * 다리 수 테스트 용 4\n",
      "다리 개수 : 4\n",
      "꼬리 개수 : 1\n",
      "냥이1 야옹 🐈\n",
      "내 별명은 \"첨지\"다냥 😽\n",
      "\n",
      "Cat(name='냥이2', age=2, nickname='춘봉이')\n",
      "name : 냥이2, age : 2, 냥집 주소(id) : 4393310288, * 다리 수 테스트 용 4\n",
      "다리 개수 : 4\n",
      "꼬리 개수 : 1\n",
      "냥이2 야옹 🐈\n",
      "내 별명은 \"춘봉이\"다냥 😽\n",
      "\n",
      "냥이1,냥이2의 나이를 더하면 3살이다냥 🙀\n",
      "\n",
      "냥이4 : 내 별명의 첫 글자는 '돌'! 맞춰보라냥 😸\n",
      "\n",
      "name : 냥이1, age : 1, 냥집 주소(id) : 4393310816, * 다리 수 테스트 용 4\n",
      "name : 냥이2, age : 2, 냥집 주소(id) : 4393310288, * 다리 수 테스트 용 4\n",
      "name : 냥이3, age : 19, 냥집 주소(id) : 4393311152, * 다리 수 테스트 용 4\n",
      "name : 냥이4, age : 4, 냥집 주소(id) : 4393308416, * 다리 수 테스트 용 4\n"
     ]
    }
   ],
   "source": [
    "print(Cat.__doc__)\n",
    "\n",
    "print(cat1.__repr__())\n",
    "print(cat1,f'다리 개수 : {cat1.legs}',f'꼬리 개수 : {cat1.tail}', cat1.say(), cat1.say_nickname(), sep='\\n')\n",
    "print()\n",
    "print(cat2.__repr__())\n",
    "print(cat2,f'다리 개수 : {cat2.legs}',f'꼬리 개수 : {cat2.tail}',cat2.say(), cat2.say_nickname(), sep='\\n')\n",
    "print()\n",
    "print(cat1 + cat2) # + 연산자로 __add__ 매서드 호출\n",
    "print()\n",
    "print(f'{cat4.name} : {cat4.__getitem__()}')\n",
    "print()\n",
    "\n",
    "# 클래스 자신을 참조하는 클래스 메서드 호출. __str__ 메서드가 있는 경우 이를 사용하여 문자열을 생성\n",
    "Cat.show_instances() # 현재 인스턴스 확인"
   ]
  },
  {
   "cell_type": "code",
   "execution_count": 19,
   "metadata": {},
   "outputs": [
    {
     "name": "stdout",
     "output_type": "stream",
     "text": [
      "🌞 태양의 감마선이 내리쬐어 모든 냥이들의 다리 수가 6개로 변했다냥 🙀\n",
      "\n",
      "'산삼' 냥이 다리 수는 6개다냥😹\n",
      "\n",
      "name : 냥이1, age : 1, 냥집 주소(id) : 4393310816, * 다리 수 테스트 용 6\n",
      "name : 냥이2, age : 2, 냥집 주소(id) : 4393310288, * 다리 수 테스트 용 6\n",
      "name : 냥이3, age : 19, 냥집 주소(id) : 4393311152, * 다리 수 테스트 용 6\n",
      "name : 냥이4, age : 4, 냥집 주소(id) : 4393308416, * 다리 수 테스트 용 6\n",
      "name : 냥이5, age : 5, 냥집 주소(id) : 4463063776, * 다리 수 테스트 용 6\n"
     ]
    }
   ],
   "source": [
    "# 고양이 다리 수를 나타내는 클래스 변수 수정\n",
    "Cat.change_legs(new_legs=6)\n",
    "\n",
    "# 다리 수 수정 후 새로운 객체 생성, 다리 수 확인\n",
    "cat5 = Cat('냥이5',5,'산삼')\n",
    "print()\n",
    "print(f\"'{cat5.nickname}' 냥이 다리 수는 {cat5.legs}개다냥😹\")\n",
    "\n",
    "# 인스턴스 확인\n",
    "print()\n",
    "Cat.show_instances()"
   ]
  },
  {
   "cell_type": "code",
   "execution_count": 20,
   "metadata": {},
   "outputs": [
    {
     "name": "stdout",
     "output_type": "stream",
     "text": [
      "\n",
      "지금 냥이별에는 5마리의 냥이들이 있다냥 🌐 \n"
     ]
    }
   ],
   "source": [
    "# 클래스로 만들어진 객체 수 확인\n",
    "print()\n",
    "Cat.show_count()"
   ]
  },
  {
   "cell_type": "code",
   "execution_count": 21,
   "metadata": {},
   "outputs": [
    {
     "name": "stdout",
     "output_type": "stream",
     "text": [
      "😼 간지나는 냥이 별명을 짓고 싶다냥❔ 내가 도와주겠다냥❕\n",
      "당신의 냥이에게 어울리는 별명은 ...\n",
      ".\n",
      ".\n",
      ".\n",
      "🎉바로 '방어옐로우'이다냥🎉\n"
     ]
    }
   ],
   "source": [
    "# Cat 클래스의 정적 메서드 활용하기\n",
    "Cat.make_nickname()"
   ]
  },
  {
   "cell_type": "code",
   "execution_count": 22,
   "metadata": {},
   "outputs": [
    {
     "name": "stdout",
     "output_type": "stream",
     "text": [
      "['__add__', '__class__', '__delattr__', '__dict__', '__dir__', '__doc__', '__eq__', '__format__', '__ge__', '__getattribute__', '__getitem__', '__gt__', '__hash__', '__init__', '__init_subclass__', '__le__', '__lt__', '__module__', '__ne__', '__new__', '__reduce__', '__reduce_ex__', '__repr__', '__setattr__', '__sizeof__', '__str__', '__subclasshook__', '__weakref__', 'age', 'cat_count', 'change_legs', 'instances', 'legs', 'make_nickname', 'name', 'nickname', 'say', 'say_nickname', 'show_count', 'show_instances', 'tail']\n",
      "<class '__main__.Cat'>\n",
      "{'name': '냥이1', 'age': 1, 'nickname': '첨지'}\n"
     ]
    }
   ],
   "source": [
    "# dir 함수 : 객체의 속성(attribute)과 메서드(method) 리스트를 반환한다.\n",
    "print(dir(cat1))\n",
    "\n",
    "# __class__ : 객체의 클래스 정보를 나타내는 속성. 객체가 어떤 클래스로 만들어졌는지를 보여준다.\n",
    "print(cat1.__class__)\n",
    "\n",
    "# __dict__ : 객체 내부의 속성을 딕셔너리 형태로 저장하는 특수 속성. 매직 메서드 아니고 객체의 고유한 속성이다.\n",
    "print(cat1.__dict__)"
   ]
  }
 ],
 "metadata": {
  "kernelspec": {
   "display_name": "Python (myenv)",
   "language": "python",
   "name": "myenv"
  },
  "language_info": {
   "codemirror_mode": {
    "name": "ipython",
    "version": 3
   },
   "file_extension": ".py",
   "mimetype": "text/x-python",
   "name": "python",
   "nbconvert_exporter": "python",
   "pygments_lexer": "ipython3",
   "version": "3.8.20"
  }
 },
 "nbformat": 4,
 "nbformat_minor": 2
}
