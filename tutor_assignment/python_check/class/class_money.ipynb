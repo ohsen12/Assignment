{
 "cells": [
  {
   "cell_type": "code",
   "execution_count": 25,
   "metadata": {},
   "outputs": [],
   "source": [
    "class Bank:\n",
    "    '''\n",
    "    클래스 Bank:\n",
    "    사용자의 이름과 정보를 입력 받아 다양한 값을 반환한다.\n",
    "    '''\n",
    "    # 기본 이자율 10%\n",
    "    interest_rate = 0.1\n",
    "\n",
    "    def __init__(self, customer:str, details:dict):\n",
    "        self._customer = customer\n",
    "        self._details = details\n",
    "\n",
    "    def __str__(self):\n",
    "        return f'고객이름: {self._customer} 고객정보: {self._details}'\n",
    "\n",
    "    def get_loan_info(self):\n",
    "        return f\"현재 대출 정보 - 고객: {self._customer}, amount: {self._details.get('loan_amount')}\"\n",
    "\n",
    "    def calculate_interest(self):\n",
    "        return f\"Total Repayment - 고객: {self._customer}, amount: {self._details.get('loan_amount') * (1 * Bank.interest_rate)}\"\n",
    "   \n",
    "    @classmethod\n",
    "    def update_interest_rate(cls, rate:int):\n",
    "        if rate <= 0:\n",
    "            print('Please Enter Interest Rate Greater Than 0')\n",
    "            return\n",
    "        Bank.interest_rate = rate\n"
   ]
  },
  {
   "cell_type": "code",
   "execution_count": 26,
   "metadata": {},
   "outputs": [
    {
     "name": "stdout",
     "output_type": "stream",
     "text": [
      "a - 고객이름: 김첨지 고객정보: {'loan_amount': 50000000, 'credit_score': 850}\n",
      "현재 대출 정보 - 고객: 김첨지, amount: 50000000\n",
      "Total Repayment - 고객: 김첨지, amount: 5000000.0\n",
      "\n",
      "b - 고객이름: 이춘봉 고객정보: {'loan_amount': 30000000, 'credit_score': 680}\n",
      "현재 대출 정보 - 고객: 이춘봉, amount: 30000000\n",
      "Total Repayment - 고객: 이춘봉, amount: 3000000.0\n",
      "\n",
      "현재 이자율: 0.1\n",
      "바뀐 이자율: 3\n"
     ]
    }
   ],
   "source": [
    "# Bank 클래스로 인스턴스 생성\n",
    "a = Bank('김첨지', {'loan_amount': 50000000, 'credit_score': 850})\n",
    "b= Bank('이춘봉', {'loan_amount': 30000000, 'credit_score': 680})\n",
    "\n",
    "print(f'a - {a}')\n",
    "print(a.get_loan_info())\n",
    "print(a.calculate_interest())\n",
    "print()\n",
    "print(f'b - {b}')\n",
    "print(b.get_loan_info())\n",
    "print(b.calculate_interest())\n",
    "print()\n",
    "\n",
    "print(\"현재 이자율:\", Bank.interest_rate)\n",
    "Bank.update_interest_rate(3)\n",
    "print(\"바뀐 이자율:\", Bank.interest_rate)"
   ]
  }
 ],
 "metadata": {
  "kernelspec": {
   "display_name": "Python (myenv)",
   "language": "python",
   "name": "myenv"
  },
  "language_info": {
   "codemirror_mode": {
    "name": "ipython",
    "version": 3
   },
   "file_extension": ".py",
   "mimetype": "text/x-python",
   "name": "python",
   "nbconvert_exporter": "python",
   "pygments_lexer": "ipython3",
   "version": "3.8.20"
  }
 },
 "nbformat": 4,
 "nbformat_minor": 2
}
