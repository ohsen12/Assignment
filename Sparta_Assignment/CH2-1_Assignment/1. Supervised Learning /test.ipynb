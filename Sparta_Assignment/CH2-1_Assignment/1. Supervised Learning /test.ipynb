{
 "cells": [
  {
   "cell_type": "code",
   "execution_count": null,
   "metadata": {
    "vscode": {
     "languageId": "plaintext"
    }
   },
   "outputs": [],
   "source": [
    "# 데이터셋의 결측값을 다른 값으로 대체하기\n",
    "# inplace = True 옵션으로 원본데이터 변경\n",
    "\n",
    "df['CRIM'].fillna(df['CRIM'].mean(), inplace=True) # 평균값\n",
    "df['INDUS'].fillna(df['INDUS'].mean(), inplace=True) # 평균값\n",
    "df['AGE'].fillna(df['AGE'].mean(), inplace=True) # 평균값\n",
    "df['LSTAT'].fillna(df['LSTAT'].mean(), inplace=True) # 평균값\n",
    "\n",
    "# 그 외 결측값이 있는 행은 제거하기\n",
    "df.dropna(inplace=True)\n",
    "\n",
    "print('각 컬럼들의 결측값 현황')\n",
    "print(df.isna().sum())  # 결측값이 잘 처리되었는지 확인 (결측값을 대체하거나 결측값이 있는 행을 제거해서 각 컬럼의 결측값이 0인 것을 알 수 있다.)\n",
    "print('-'*130)\n",
    "df.info() # 데이터프레임 정보 다시 확인 (총 506행의 데이터에서 466행의 결측값 없는 데이터로 바뀐 것을 확인 가능) (❗️ 결측값이 있는 행을 제거했을 뿐 인덱스는 기존과 같이 남아있다는 것 유의)\n",
    "\n",
    "이 경우 모델 평가\n",
    "Mean Squared Error: 9.709087415273192\n",
    "R^2 Score: 0.7264160944964468"
   ]
  },
  {
   "cell_type": "code",
   "execution_count": null,
   "metadata": {
    "vscode": {
     "languageId": "plaintext"
    }
   },
   "outputs": [],
   "source": [
    "# 결측값을 모두 평균값으로 대체한 케이스\n",
    "\n",
    "df.fillna(df.mean(), inplace=True) # 평균값\n",
    "\n",
    "이 경우 모델 평가\n",
    "Mean Squared Error: 11.590991228748717\n",
    "R^2 Score: 0.6562403686680377"
   ]
  },
  {
   "cell_type": "code",
   "execution_count": null,
   "metadata": {
    "vscode": {
     "languageId": "plaintext"
    }
   },
   "outputs": [],
   "source": [
    "# 결측값을 모두 제거하고 학습한 케이스\n",
    "# inplace = True 옵션으로 원본데이터 변경\n",
    "\n",
    "# 결측값이 있는 행은 제거하기\n",
    "df.dropna(inplace=True)\n",
    "\n",
    "print('각 컬럼들의 결측값 현황')\n",
    "print(df.isna().sum())  # 결측값이 잘 처리되었는지 확인 (결측값을 대체하거나 결측값이 있는 행을 제거해서 각 컬럼의 결측값이 0인 것을 알 수 있다.)\n",
    "print('-'*130)\n",
    "df.info() # 데이터프레임 정보 다시 확인 (총 506행의 데이터에서 466행의 결측값 없는 데이터로 바뀐 것을 확인 가능) (❗️ 결측값이 있는 행을 제거했을 뿐 인덱스는 기존과 같이 남아있다는 것 유의)\n",
    "\n",
    "이 경우 모델 평가\n",
    "Mean Squared Error: 12.393410369400286\n",
    "R^2 Score: 0.5920913013754535"
   ]
  },
  {
   "cell_type": "code",
   "execution_count": null,
   "metadata": {
    "vscode": {
     "languageId": "plaintext"
    }
   },
   "outputs": [],
   "source": [
    "# 결측값을 결측값을 예측하는 선형회귀모델로 채워준 케이스 (오히려 단순하게 평균값으로 대체하고 결측행을 제거한 것보다 성능이 떨어짐)\n",
    "\n",
    "# column_with_na 열에 있는 결측값을 다른 열(feature1, feature2)을 사용하여 회귀 모델을 통해 예측하고, 그 예측된 값으로 결측값을 대체하는 과정\n",
    "# 모델은 결측값이 있으면 학습할 수 없으니, 모든 입력 변수에서 결측값이 없는 데이터를 사용하는 것이 중요하다.\n",
    "\n",
    "from sklearn.linear_model import LinearRegression\n",
    "\n",
    "column_with_na = df.columns[df.isnull().any()]\n",
    "\n",
    "for column in column_with_na:\n",
    "    # 결측값이 있는 열과 없는 열 분리\n",
    "    df_with_na = df[df[column].isnull()] # df_with_na는 해당 열에서 결측값이 있는 행들만 포함하는 데이터(df[불리언 시리즈]는 True인 행들을 선택하여 새로운 데이터프레임을 생성한다.)\n",
    "    df_without_na = df[df[column].notnull()] #  df_without_na는 해당 열에서 결측값이 없는 행들만 포함하는 데이터프레임\n",
    "\n",
    "    # 회귀 모델 학습\n",
    "    model = LinearRegression()  \n",
    "                    # 훈련용 입력 데이터         # 훈련용 타겟 데이터\n",
    "    model.fit(df_without_na[['NOX', 'RM']], df_without_na[column])\n",
    "\n",
    "    # 결측값 예측                         # 실제 테스트용 입력 데이터\n",
    "    predicted_values = model.predict(df_with_na[['NOX', 'RM']])\n",
    "\n",
    "    # 예측된 값으로 결측값 대체\n",
    "    df.loc[df[column].isnull(), column] = predicted_values\n",
    "\n",
    "이 경우 모델 평가\n",
    "Mean Squared Error: 13.04010540136346\n",
    "R^2 Score: 0.6132632889770075"
   ]
  },
  {
   "cell_type": "markdown",
   "metadata": {},
   "source": [
    "선형회귀모델은 이쯤이 최선인 듯 함 ~"
   ]
  }
 ],
 "metadata": {
  "language_info": {
   "name": "python"
  }
 },
 "nbformat": 4,
 "nbformat_minor": 2
}
